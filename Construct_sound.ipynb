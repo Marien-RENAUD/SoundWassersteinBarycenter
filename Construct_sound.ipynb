{
 "cells": [
  {
   "cell_type": "code",
   "execution_count": 1,
   "id": "f80acad3",
   "metadata": {},
   "outputs": [],
   "source": [
    "import SoundWassersteinBarycenter as SWB"
   ]
  },
  {
   "cell_type": "markdown",
   "id": "b2d86e9d",
   "metadata": {},
   "source": [
    "## Cigale to fontaine"
   ]
  },
  {
   "cell_type": "code",
   "execution_count": 7,
   "id": "a1a624d5",
   "metadata": {},
   "outputs": [
    {
     "name": "stdout",
     "output_type": "stream",
     "text": [
      "nperseg =  2048\n"
     ]
    }
   ],
   "source": [
    "adresse1 = \"sound/cigale_fontaine/cigale.wav\"\n",
    "adresse2 = \"sound/cigale_fontaine/fontaine.wav\"\n",
    "adresse3 = \"sound/cigale_fontaine/cigale_fontaine_L2_barycenter.wav\"\n",
    "method = \"L2\"\n",
    "\n",
    "Objet1 = SWB.Wasserstein_barycenter(adresse1, adresse2, method)\n",
    "Objet1.compute()\n",
    "Objet1.save_sound(adresse3)"
   ]
  },
  {
   "cell_type": "code",
   "execution_count": 8,
   "id": "7f1ea734",
   "metadata": {},
   "outputs": [
    {
     "name": "stdout",
     "output_type": "stream",
     "text": [
      "nperseg =  2048\n"
     ]
    },
    {
     "name": "stderr",
     "output_type": "stream",
     "text": [
      "100%|███████████████████████████████████████████████████████████████████████████████| 266/266 [00:00<00:00, 706.98it/s]\n"
     ]
    }
   ],
   "source": [
    "adresse1 = \"sound/cigale_fontaine/cigale.wav\"\n",
    "adresse2 = \"sound/cigale_fontaine/fontaine.wav\"\n",
    "adresse3 = \"sound/cigale_fontaine/cigale_fontaine_quantile_barycenter.wav\"\n",
    "method = \"quantile1D\"\n",
    "\n",
    "Objet1 = SWB.Wasserstein_barycenter(adresse1, adresse2, method)\n",
    "Objet1.compute()\n",
    "Objet1.save_sound(adresse3)"
   ]
  },
  {
   "cell_type": "code",
   "execution_count": 9,
   "id": "76cf89ab",
   "metadata": {},
   "outputs": [
    {
     "name": "stdout",
     "output_type": "stream",
     "text": [
      "nperseg =  2048\n"
     ]
    },
    {
     "name": "stderr",
     "output_type": "stream",
     "text": [
      "100%|████████████████████████████████████████████████████████████████████████████████| 266/266 [02:38<00:00,  1.68it/s]\n"
     ]
    }
   ],
   "source": [
    "adresse1 = \"sound/cigale_fontaine/cigale.wav\"\n",
    "adresse2 = \"sound/cigale_fontaine/fontaine.wav\"\n",
    "adresse3 = \"sound/cigale_fontaine/cigale_fontaine_unbalanced_barycenter.wav\"\n",
    "method = \"unbalanced1D\"\n",
    "\n",
    "Objet1 = SWB.Wasserstein_barycenter(adresse1, adresse2, method)\n",
    "Objet1.compute(epsilon = 1e-2, reg = 0.3)\n",
    "Objet1.save_sound(adresse3)"
   ]
  },
  {
   "cell_type": "code",
   "execution_count": 16,
   "id": "b9484bc2",
   "metadata": {},
   "outputs": [
    {
     "name": "stdout",
     "output_type": "stream",
     "text": [
      "nperseg =  2048\n"
     ]
    },
    {
     "name": "stderr",
     "output_type": "stream",
     "text": [
      "100%|██████████████████████████████████████████████████████████████████████████████████| 30/30 [00:13<00:00,  2.23it/s]\n"
     ]
    }
   ],
   "source": [
    "adresse1 = \"sound/cigale_fontaine/cigale.wav\"\n",
    "adresse2 = \"sound/cigale_fontaine/fontaine.wav\"\n",
    "adresse3 = \"sound/cigale_fontaine/cigale_fontaine_efficient_sinkhorn_barycenter.wav\"\n",
    "method = \"efficient_sinkhorn\"\n",
    "\n",
    "Objet1 = SWB.Wasserstein_barycenter(adresse1, adresse2, method)\n",
    "Objet1.compute(epsilon = 1e-2, n_it = 30)\n",
    "Objet1.save_sound(adresse3)"
   ]
  },
  {
   "cell_type": "markdown",
   "id": "16f19ffe",
   "metadata": {},
   "source": [
    "## Piano to fontaine"
   ]
  },
  {
   "cell_type": "code",
   "execution_count": 17,
   "id": "97212881",
   "metadata": {},
   "outputs": [
    {
     "name": "stdout",
     "output_type": "stream",
     "text": [
      "nperseg =  2048\n"
     ]
    }
   ],
   "source": [
    "adresse1 = \"sound/piano_fontaine/piano.wav\"\n",
    "adresse2 = \"sound/piano_fontaine/fontaine.wav\"\n",
    "adresse3 = \"sound/piano_fontaine/piano_fontaine_L2_barycenter.wav\"\n",
    "method = \"L2\"\n",
    "\n",
    "Objet1 = SWB.Wasserstein_barycenter(adresse1, adresse2, method)\n",
    "Objet1.compute()\n",
    "Objet1.save_sound(adresse3)"
   ]
  },
  {
   "cell_type": "code",
   "execution_count": 18,
   "id": "6c888d22",
   "metadata": {},
   "outputs": [
    {
     "name": "stdout",
     "output_type": "stream",
     "text": [
      "nperseg =  2048\n"
     ]
    },
    {
     "name": "stderr",
     "output_type": "stream",
     "text": [
      "100%|███████████████████████████████████████████████████████████████████████████████| 266/266 [00:00<00:00, 717.92it/s]\n"
     ]
    }
   ],
   "source": [
    "adresse1 = \"sound/piano_fontaine/piano.wav\"\n",
    "adresse2 = \"sound/piano_fontaine/fontaine.wav\"\n",
    "adresse3 = \"sound/piano_fontaine/piano_fontaine_quantile_barycenter.wav\"\n",
    "method = \"quantile1D\"\n",
    "\n",
    "Objet1 = SWB.Wasserstein_barycenter(adresse1, adresse2, method)\n",
    "Objet1.compute()\n",
    "Objet1.save_sound(adresse3)"
   ]
  },
  {
   "cell_type": "code",
   "execution_count": 19,
   "id": "2f87ae8f",
   "metadata": {},
   "outputs": [
    {
     "name": "stdout",
     "output_type": "stream",
     "text": [
      "nperseg =  2048\n"
     ]
    },
    {
     "name": "stderr",
     "output_type": "stream",
     "text": [
      "100%|████████████████████████████████████████████████████████████████████████████████| 266/266 [02:37<00:00,  1.69it/s]\n"
     ]
    }
   ],
   "source": [
    "adresse1 = \"sound/piano_fontaine/piano.wav\"\n",
    "adresse2 = \"sound/piano_fontaine/fontaine.wav\"\n",
    "adresse3 = \"sound/piano_fontaine/piano_fontaine_unbalanced_barycenter.wav\"\n",
    "method = \"unbalanced1D\"\n",
    "\n",
    "Objet1 = SWB.Wasserstein_barycenter(adresse1, adresse2, method)\n",
    "Objet1.compute(epsilon = 1e-2, reg = 0.3)\n",
    "Objet1.save_sound(adresse3)"
   ]
  },
  {
   "cell_type": "code",
   "execution_count": null,
   "id": "addd51fd",
   "metadata": {},
   "outputs": [],
   "source": [
    "adresse1 = \"sound/piano_fontaine/piano.wav\"\n",
    "adresse2 = \"sound/piano_fontaine/fontaine.wav\"\n",
    "adresse3 = \"sound/piano_fontaine/piano_fontaine_efficient_sinkhorn_barycenter.wav\"\n",
    "method = \"efficient_sinkhorn\"\n",
    "\n",
    "Objet1 = SWB.Wasserstein_barycenter(adresse1, adresse2, method)\n",
    "Objet1.compute(epsilon = 1e-2, n_it = 30)\n",
    "Objet1.save_sound(adresse3)"
   ]
  },
  {
   "cell_type": "markdown",
   "id": "2f702e45",
   "metadata": {},
   "source": [
    "## Piano to violon"
   ]
  },
  {
   "cell_type": "code",
   "execution_count": 22,
   "id": "82e1f2ce",
   "metadata": {},
   "outputs": [
    {
     "name": "stdout",
     "output_type": "stream",
     "text": [
      "nperseg =  2048\n"
     ]
    }
   ],
   "source": [
    "adresse1 = \"sound/piano_violon/piano.wav\"\n",
    "adresse2 = \"sound/piano_violon/violon.wav\"\n",
    "adresse3 = \"sound/piano_violon/piano_violon_L2_barycenter.wav\"\n",
    "method = \"L2\"\n",
    "\n",
    "Objet1 = SWB.Wasserstein_barycenter(adresse1, adresse2, method)\n",
    "Objet1.compute()\n",
    "Objet1.save_sound(adresse3)"
   ]
  },
  {
   "cell_type": "code",
   "execution_count": 23,
   "id": "03411afc",
   "metadata": {},
   "outputs": [
    {
     "name": "stdout",
     "output_type": "stream",
     "text": [
      "nperseg =  2048\n"
     ]
    },
    {
     "name": "stderr",
     "output_type": "stream",
     "text": [
      "100%|███████████████████████████████████████████████████████████████████████████████| 388/388 [00:00<00:00, 723.81it/s]\n"
     ]
    }
   ],
   "source": [
    "adresse1 = \"sound/piano_violon/piano.wav\"\n",
    "adresse2 = \"sound/piano_violon/violon.wav\"\n",
    "adresse3 = \"sound/piano_violon/piano_violon_quantile_barycenter.wav\"\n",
    "method = \"quantile1D\"\n",
    "\n",
    "Objet1 = SWB.Wasserstein_barycenter(adresse1, adresse2, method)\n",
    "Objet1.compute()\n",
    "Objet1.save_sound(adresse3)"
   ]
  },
  {
   "cell_type": "code",
   "execution_count": 24,
   "id": "8d4205a9",
   "metadata": {},
   "outputs": [
    {
     "name": "stdout",
     "output_type": "stream",
     "text": [
      "nperseg =  2048\n"
     ]
    },
    {
     "name": "stderr",
     "output_type": "stream",
     "text": [
      "100%|████████████████████████████████████████████████████████████████████████████████| 388/388 [02:50<00:00,  2.27it/s]\n"
     ]
    }
   ],
   "source": [
    "adresse1 = \"sound/piano_violon/piano.wav\"\n",
    "adresse2 = \"sound/piano_violon/violon.wav\"\n",
    "adresse3 = \"sound/piano_violon/piano_violon_unbalanced_barycenter.wav\"\n",
    "method = \"unbalanced1D\"\n",
    "\n",
    "Objet1 = SWB.Wasserstein_barycenter(adresse1, adresse2, method)\n",
    "Objet1.compute(epsilon = 1e-2, reg = 0.3)\n",
    "Objet1.save_sound(adresse3)"
   ]
  },
  {
   "cell_type": "code",
   "execution_count": 25,
   "id": "fcff45fc",
   "metadata": {},
   "outputs": [
    {
     "name": "stdout",
     "output_type": "stream",
     "text": [
      "nperseg =  2048\n"
     ]
    },
    {
     "name": "stderr",
     "output_type": "stream",
     "text": [
      "100%|████████████████████████████████████████████████████████████████████████████████| 100/100 [01:17<00:00,  1.29it/s]\n"
     ]
    }
   ],
   "source": [
    "adresse1 = \"sound/piano_violon/piano.wav\"\n",
    "adresse2 = \"sound/piano_violon/violon.wav\"\n",
    "adresse3 = \"sound/piano_violon/piano_violon_efficient_sinkhorn_barycenter.wav\"\n",
    "method = \"efficient_sinkhorn\"\n",
    "\n",
    "Objet1 = SWB.Wasserstein_barycenter(adresse1, adresse2, method)\n",
    "Objet1.compute(epsilon = 1e-4, n_it = 100)\n",
    "Objet1.save_sound(adresse3)"
   ]
  },
  {
   "cell_type": "markdown",
   "id": "4cd6e515",
   "metadata": {},
   "source": [
    "## intro come as you are"
   ]
  },
  {
   "cell_type": "code",
   "execution_count": 21,
   "id": "1aec53f1",
   "metadata": {},
   "outputs": [
    {
     "name": "stdout",
     "output_type": "stream",
     "text": [
      "nperseg =  2048\n"
     ]
    }
   ],
   "source": [
    "adresse1 = \"sound/intro_come_as_you_are/come_as_you_are_nirvana.wav\"\n",
    "adresse2 = \"sound/intro_come_as_you_are/come_as_you_are_jennel.wav\"\n",
    "adresse3 = \"sound/intro_come_as_you_are/come_as_you_are_L2_barycenter.wav\"\n",
    "method = \"L2\"\n",
    "\n",
    "Objet1 = SWB.Wasserstein_barycenter(adresse1, adresse2, method)\n",
    "Objet1.compute()\n",
    "Objet1.save_sound(adresse3)"
   ]
  },
  {
   "cell_type": "code",
   "execution_count": 26,
   "id": "ac55fc6b",
   "metadata": {},
   "outputs": [
    {
     "name": "stdout",
     "output_type": "stream",
     "text": [
      "nperseg =  2048\n"
     ]
    },
    {
     "name": "stderr",
     "output_type": "stream",
     "text": [
      "100%|███████████████████████████████████████████████████████████████████████████████| 681/681 [00:01<00:00, 562.80it/s]\n"
     ]
    }
   ],
   "source": [
    "adresse1 = \"sound/intro_come_as_you_are/come_as_you_are_nirvana.wav\"\n",
    "adresse2 = \"sound/intro_come_as_you_are/come_as_you_are_jennel.wav\"\n",
    "adresse3 = \"sound/intro_come_as_you_are/come_as_you_are_quantile_barycenter.wav\"\n",
    "method = \"quantile1D\"\n",
    "\n",
    "Objet1 = SWB.Wasserstein_barycenter(adresse1, adresse2, method)\n",
    "Objet1.compute()\n",
    "Objet1.save_sound(adresse3)"
   ]
  },
  {
   "cell_type": "code",
   "execution_count": null,
   "id": "fe6d79c2",
   "metadata": {},
   "outputs": [
    {
     "name": "stdout",
     "output_type": "stream",
     "text": [
      "nperseg =  2048\n"
     ]
    },
    {
     "name": "stderr",
     "output_type": "stream",
     "text": [
      " 44%|███████████████████████████████████▌                                            | 303/681 [01:57<02:52,  2.20it/s]"
     ]
    }
   ],
   "source": [
    "adresse1 = \"sound/intro_come_as_you_are/come_as_you_are_nirvana.wav\"\n",
    "adresse2 = \"sound/intro_come_as_you_are/come_as_you_are_jennel.wav\"\n",
    "adresse3 = \"sound/intro_come_as_you_are/come_as_you_are_unbalanced_barycenter.wav\"\n",
    "method = \"unbalanced1D\"\n",
    "\n",
    "Objet1 = SWB.Wasserstein_barycenter(adresse1, adresse2, method)\n",
    "Objet1.compute(epsilon = 1e-2, reg = 0.3)\n",
    "Objet1.save_sound(adresse3)"
   ]
  },
  {
   "cell_type": "code",
   "execution_count": null,
   "id": "6e75a8a3",
   "metadata": {},
   "outputs": [],
   "source": [
    "adresse1 = \"sound/intro_come_as_you_are/come_as_you_are_nirvana.wav\"\n",
    "adresse2 = \"sound/intro_come_as_you_are/come_as_you_are_jennel.wav\"\n",
    "adresse3 = \"sound/intro_come_as_you_are/come_as_you_are_efficient_sinkhorn_barycenter.wav\"\n",
    "method = \"efficient_sinkhorn\"\n",
    "\n",
    "Objet1 = SWB.Wasserstein_barycenter(adresse1, adresse2, method)\n",
    "Objet1.compute(epsilon = 1e-4, n_it = 100)\n",
    "Objet1.save_sound(adresse3)"
   ]
  },
  {
   "cell_type": "code",
   "execution_count": null,
   "id": "344ef5b4",
   "metadata": {},
   "outputs": [],
   "source": []
  }
 ],
 "metadata": {
  "kernelspec": {
   "display_name": "Python 3 (ipykernel)",
   "language": "python",
   "name": "python3"
  },
  "language_info": {
   "codemirror_mode": {
    "name": "ipython",
    "version": 3
   },
   "file_extension": ".py",
   "mimetype": "text/x-python",
   "name": "python",
   "nbconvert_exporter": "python",
   "pygments_lexer": "ipython3",
   "version": "3.9.12"
  }
 },
 "nbformat": 4,
 "nbformat_minor": 5
}
